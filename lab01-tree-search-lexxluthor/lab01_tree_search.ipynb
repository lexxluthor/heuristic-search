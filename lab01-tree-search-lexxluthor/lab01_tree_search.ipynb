{
 "cells": [
  {
   "attachments": {},
   "cell_type": "markdown",
   "metadata": {},
   "source": [
    "# Uninformed Tree Search Without Duplicates Detection\n",
    "\n",
    "In this lab, you will implement basic tree search methods without duplicate detection:\n",
    "\n",
    "- ***BFS (Breadth First Search)***\n",
    "- ***DFS (Depth First Search)***\n",
    "- ***DFS-L (Depth First Search with Limited Depth)***\n",
    "- ***DFID (Depth First Iterative Deepening)***.\n",
    "\n",
    "You will work with two widespread domains:\n",
    "- ***15-puzzle***\n",
    "- ***Panckakes***. \n",
    "\n",
    "For the ***15-puzzle***, the code that defines `state` and `get_successors` is already available. For Pancakes, you will need to code it yourself. All search methods must be implemented by you using the provided code stubs.\n",
    "\n",
    "Run every cell of the notebook and complete the described tasks. Good luck!"
   ]
  },
  {
   "cell_type": "code",
   "execution_count": 2,
   "metadata": {},
   "outputs": [],
   "source": [
    "import copy\n",
    "from pathlib import Path\n",
    "from collections import deque\n",
    "from typing import List, Callable\n",
    "\n",
    "import numpy as np"
   ]
  },
  {
   "attachments": {},
   "cell_type": "markdown",
   "metadata": {},
   "source": [
    "## Gem Puzzle (15-puzzle or n-puzzle)\n",
    "\n",
    "The ***15-puzzle*** (also called ***Gem Puzzle***, Boss Puzzle, Game of Fifteen, Mystic Square and many others) is a sliding puzzle that consists of a frame of numbered square tiles in random order with one tile missing (the so-called blank tile). \n",
    "\n",
    "The size of the puzzle may vary. E.g. if the size of the field is $3\\times3$, the puzzle is called the 8-puzzle, and if the size of the field is $4 \\times 4$, the puzzle is called the 15-puzzle. \n",
    "\n",
    "The task is to place the tiles in order (see the figure below) by sliding them. Indeed, you can slide a tile only to an adjacent blank tile, which is why one can think of it as actually sliding the blank tile.\n",
    "\n",
    "Note, that half of the initial configurations for the n-puzzle are impossible to resolve, no matter how many moves are made. See [[Wikipedia](https://en.wikipedia.org/wiki/15_puzzle)] for more info. "
   ]
  },
  {
   "attachments": {},
   "cell_type": "markdown",
   "metadata": {
    "tags": []
   },
   "source": [
    "![puzzle](img/gem_puzzle.png)"
   ]
  },
  {
   "attachments": {},
   "cell_type": "markdown",
   "metadata": {},
   "source": [
    "### Representation of a search state for the Gem Puzzle\n",
    "\n",
    "Indeed, there may exist many ways to represent a search state for the Gem Puzzle. In this lab, we will use a list of integers as an external encoding of the Gem Puzzle state. This list is assumed to contain numbers from 1 to (*size* * *size*), where *size* is the size of the puzzle. The tile with the number *size* * *size* is a blank tile.\n",
    "\n",
    "For example, the encoding of the start state of the 8-puzzle depicted above will be \\[7,2,4,5,9,6,8,3,1\\].\n",
    "\n",
    "Internally, we will use a 2-dimensional numpy array to store puzzle states. \n"
   ]
  },
  {
   "cell_type": "code",
   "execution_count": 3,
   "metadata": {},
   "outputs": [],
   "source": [
    "class GemPuzzleState:\n",
    "    \"\"\"\n",
    "    Implementing a search state (or simply, a state) in code is a crucial first step\n",
    "    necessary for tackling any search problem. The `GemPuzzleState` class is structured\n",
    "    with the following fields:\n",
    "\n",
    "    Attributes\n",
    "    ----------\n",
    "    size : int\n",
    "        Width of the game field.\n",
    "\n",
    "    tile_matrix : ndarray[int, ndim=2]\n",
    "        Tile positions represented as a 2D array of integers. This array is expected\n",
    "        to contain values from `1` to `size * size`. Each integer value corresponds\n",
    "        to a tile, and the position in the array (row and column) corresponds to the\n",
    "        position of the tile on the game field. The tile with the value `size * size`\n",
    "        is assumed to represent the blank position.\n",
    "\n",
    "    parent : GemPuzzleState\n",
    "        A pointer to the parent state. The parent is a predecessor of the state in\n",
    "        the search tree. It is used to reconstruct a path to that state from the start\n",
    "        state (the root of the search tree).\n",
    "\n",
    "    blank_pos : ndarray[int, ndim=1]\n",
    "        The position (row and column) of the empty tile in tile_matrix. Explicitly\n",
    "        storing the position of a blank helps to generate successors faster.\n",
    "    \"\"\"\n",
    "\n",
    "    def __init__(self, tile_list: List[int]):\n",
    "        \"\"\"\n",
    "        Constructor. Sets tile positions and performs some basic checks.\n",
    "\n",
    "        Parameters\n",
    "        ----------\n",
    "        tile_list : List[int]\n",
    "            Tile positions represented as a list of integers. This list is expected to contain\n",
    "            values from `1` to `size * size`. Each integer value corresponds to a tile, and\n",
    "            the position in the list (index) corresponds to the position of the tile on the game field.\n",
    "            The tile with the value `size * size` is assumed to represent the blank position.\n",
    "        \"\"\"\n",
    "        self.size = int(len(tile_list) ** 0.5)\n",
    "        blank_value = self.size**2\n",
    "        if blank_value != len(tile_list):\n",
    "            raise ValueError(\n",
    "                \"The tile list must contain the number of elements equal to the square of an integer!\"\n",
    "            )\n",
    "\n",
    "        self.tile_matrix = np.array(tile_list, dtype=np.int16).reshape(\n",
    "            (self.size, self.size)\n",
    "        )\n",
    "\n",
    "        # Memorizing the position of a blank tile\n",
    "        # Technically, there is no need to do so,\n",
    "        # but it makes getting the successors a bit faster\n",
    "        blanks = np.argwhere(self.tile_matrix == blank_value)\n",
    "        if len(blanks) != 1:\n",
    "            raise ValueError(\n",
    "                \"The state should contain a single maximum value representing the blank tile position.\"\n",
    "            )\n",
    "        self.blank_pos = blanks[0]\n",
    "\n",
    "        # The parent state (predecessor in the search tree) will be set up by the search algorithm.\n",
    "        self.parent = None\n",
    "\n",
    "    def __eq__(self, other):\n",
    "        \"\"\"\n",
    "        Compare one state with another state.\n",
    "        \"\"\"\n",
    "        return np.array_equal(self.tile_matrix, other.tile_matrix)\n",
    "\n",
    "    def __str__(self) -> str:\n",
    "        \"\"\"\n",
    "        Return a string representation of the game field for printing.\n",
    "        \"\"\"\n",
    "        blank_value = self.size**2\n",
    "        result = (\n",
    "            str(self.tile_matrix)\n",
    "            .replace(\" [\", \"\")\n",
    "            .replace(\"[\", \"\")\n",
    "            .replace(\"]\", \"\")\n",
    "            .replace(str(blank_value), \"_\")\n",
    "            + \"\\n\"\n",
    "        )\n",
    "        return result"
   ]
  },
  {
   "attachments": {},
   "cell_type": "markdown",
   "metadata": {},
   "source": [
    "### Get Succesors"
   ]
  },
  {
   "cell_type": "code",
   "execution_count": 4,
   "metadata": {},
   "outputs": [],
   "source": [
    "def get_successors(state: GemPuzzleState) -> List[GemPuzzleState]:\n",
    "    \"\"\"\n",
    "    Implementing the `get_successors` function is another crucial step in tackling any search problem.\n",
    "    This function is designed to take a specific search state as input and return all possible successor states,\n",
    "    which result from applying all applicable actions to the input state. In the case of GemPuzzle, the successors\n",
    "    correspond to the board states resulting from moving the blank tile up, down, left, or right. If the blank tile\n",
    "    goes out of the field after a move, such a successor should be discarded.\n",
    "\n",
    "    Parameters\n",
    "    ----------\n",
    "    state : GemPuzzleState\n",
    "        The input search state.\n",
    "\n",
    "    Returns\n",
    "    -------\n",
    "    List[GemPuzzleState]\n",
    "        A list containing all possible successor states for the input state.\n",
    "    \"\"\"\n",
    "    successors = []\n",
    "    row, col = state.blank_pos\n",
    "    delta = [(0, 1), (1, 0), (0, -1), (-1, 0)]\n",
    "    for dx, dy in delta:\n",
    "        # Compute new column and row for the blank tile\n",
    "        new_row, new_col = row + dx, col + dy\n",
    "\n",
    "        # If the new position of the blank tile is valid (i.e., it is still within the field), then\n",
    "        # a corresponding successor should be added to the successors' list\n",
    "        if 0 <= new_row < state.size and 0 <= new_col < state.size:\n",
    "            new_state = copy.deepcopy(state)\n",
    "            new_state.tile_matrix[row, col] = new_state.tile_matrix[new_row, new_col]\n",
    "            new_state.tile_matrix[new_row, new_col] = new_state.size**2\n",
    "            new_state.blank_pos = (new_row, new_col)\n",
    "            new_state.parent = state\n",
    "            successors.append(new_state)\n",
    "\n",
    "    return successors"
   ]
  },
  {
   "attachments": {},
   "cell_type": "markdown",
   "metadata": {},
   "source": [
    "### Goal check"
   ]
  },
  {
   "cell_type": "code",
   "execution_count": 5,
   "metadata": {},
   "outputs": [],
   "source": [
    "def state_is_goal(state: GemPuzzleState):\n",
    "    \"\"\"\n",
    "    A handy function that returns `True` if the input `state` corresponds\n",
    "    to the goal state (i.e., all tiles are in their correct positions), and `False` otherwise.\n",
    "    \"\"\"\n",
    "    goal_list = np.arange(1, state.size**2 + 1).reshape(state.size, state.size)\n",
    "    return np.array_equal(state.tile_matrix, goal_list)"
   ]
  },
  {
   "attachments": {},
   "cell_type": "markdown",
   "metadata": {},
   "source": [
    "### Path checking"
   ]
  },
  {
   "cell_type": "code",
   "execution_count": 6,
   "metadata": {},
   "outputs": [],
   "source": [
    "def check_path(last_state):\n",
    "    \"\"\"\n",
    "    Auxiliary function that takes the `last_state` and checks whether this state is a goal.\n",
    "    If yes, it unwinds the path using the backpointers and checks whether each successor is\n",
    "    reachable from its predecessor.\n",
    "    \"\"\"\n",
    "    curr = last_state\n",
    "    if not state_is_goal(curr):\n",
    "        print(\"Goal was not reached!\")\n",
    "        return False\n",
    "\n",
    "    while curr.parent is not None:\n",
    "        prev = curr.parent\n",
    "        if curr not in get_successors(prev):\n",
    "            print(\"Unacceptable step!\")\n",
    "            return False\n",
    "        curr = prev\n",
    "    return True"
   ]
  },
  {
   "attachments": {},
   "cell_type": "markdown",
   "metadata": {},
   "source": [
    "### Path unwinding\n",
    "Typically the paths are not stored within a search explicitly, but rather implicitly via the parent pointers (pointing to the predecessor in the search tree). Thus, when we reach the goal state and want to reconstruct the whole path we need to trace the parent pointers back to the root of the tree."
   ]
  },
  {
   "cell_type": "code",
   "execution_count": 7,
   "metadata": {},
   "outputs": [],
   "source": [
    "def get_path(last_state: GemPuzzleState):\n",
    "    \"\"\"\n",
    "    Takes an input state `last_state` and returns a path to this state from the root of the tree.\n",
    "    \"\"\"\n",
    "    path = []\n",
    "    curr = last_state\n",
    "    while curr is not None:\n",
    "        path.append(curr)\n",
    "        curr = curr.parent\n",
    "    return path"
   ]
  },
  {
   "attachments": {},
   "cell_type": "markdown",
   "metadata": {},
   "source": [
    "## Automated Tests to Check the Implementations of the Search Algorithms\n",
    "When you finish implementing search algorithms you need to test them, right? The following functions will help you in that. They take your search algorithm as an input and run it on a single simple test (`simple_test`) and on a series of more involved tests (`massive_test`).\n",
    "\n",
    "These automated tests assume that the seach function, passed as the input, has the following structure:\n",
    "\n",
    "`search_function(start_state, *optional arguments*) -> (path_found, last_state)`, where\n",
    "\n",
    "- `start_state` — initial state\n",
    "- `*optional arguments*` — additional parameters of the search function (if needed), passed via `*args`\n",
    "- `path_found` — result of the search, `True` if path was found, `False` otherwise\n",
    "- `last_state` — last state of path. `None` if path was not found"
   ]
  },
  {
   "cell_type": "code",
   "execution_count": 8,
   "metadata": {},
   "outputs": [],
   "source": [
    "def _run_test(\n",
    "    search_function: Callable, state, *args, task_idx: int = 0, print_path: bool = True\n",
    "):\n",
    "    \"\"\"\n",
    "    Execute a test using the specified search function on the given state.\n",
    "\n",
    "    Parameters\n",
    "    ----------\n",
    "    search_function : Callable\n",
    "        The search function to be tested.\n",
    "    state\n",
    "        The initial state for the test.\n",
    "    *args\n",
    "        Additional arguments for the search function.\n",
    "    task_idx : int, optional\n",
    "        The index of the task being tested (default is 0).\n",
    "    print_path : bool, optional\n",
    "        If True, print the path found by the search function (default is True).\n",
    "\n",
    "    Returns\n",
    "    -------\n",
    "    None\n",
    "    \"\"\"\n",
    "    try:\n",
    "        path_found, curr = search_function(state, *args)\n",
    "        if not path_found:\n",
    "            print(f\"Task #{task_idx}: path not found :(\")\n",
    "            return\n",
    "        if check_path(curr):\n",
    "            path = get_path(curr)\n",
    "            print(f\"Task #{task_idx}: path is OK! Path length: {len(path)}\")\n",
    "            if not print_path:\n",
    "                return\n",
    "            while len(path) != 0:\n",
    "                print(path.pop())\n",
    "        else:\n",
    "            print(f\"Task #{task_idx}: path is not OK :(\")\n",
    "\n",
    "    except Exception as e:\n",
    "        print(f\"Task #{task_idx}: execution error {e}\")"
   ]
  },
  {
   "cell_type": "code",
   "execution_count": 9,
   "metadata": {},
   "outputs": [],
   "source": [
    "def simple_test(search_function: Callable, *args, **kwargs):\n",
    "    \"\"\"\n",
    "    The `simple_test` function runs the `search_function` on a simple 2 x 2 sliding\n",
    "    puzzle instance (encoded as [3, 1, 2, 4]).\n",
    "\n",
    "    Parameters\n",
    "    ----------\n",
    "    search_function : Callable\n",
    "        Implementation of the search method.\n",
    "    *args\n",
    "        Additional arguments for the search function.\n",
    "    **kwargs\n",
    "        Additional keyword arguments for the search function.\n",
    "\n",
    "    Possible Outputs:\n",
    "    - 'path is OK!':\n",
    "        A path was found, and it is correct.\n",
    "    - 'path is not OK :(':\n",
    "        A path was found, but it is not correct.\n",
    "    - 'path not found :(':\n",
    "        A path was not found.\n",
    "    - 'execution error':\n",
    "        An error occurred while executing the `search_function` or path validation function.\n",
    "\n",
    "    Additional Parameters (optional):\n",
    "    - task_idx : int, optional\n",
    "        The index of the task being tested (default is 0).\n",
    "    - print_path : bool, optional\n",
    "        If True, print the path found by the search function (default is True).\n",
    "    \"\"\"\n",
    "    start_state = GemPuzzleState([3, 1, 2, 4])\n",
    "    _run_test(search_function, start_state, *args, **kwargs)"
   ]
  },
  {
   "cell_type": "code",
   "execution_count": 10,
   "metadata": {},
   "outputs": [],
   "source": [
    "def massive_test(search_function: Callable, *args, **kwargs):\n",
    "    \"\"\"\n",
    "    The `massive_test` function runs the `search_function` on a set of different tasks stored in `data/tasks_gem.txt`.\n",
    "    Initially, this file contains 4 different 2 x 2 sliding puzzle instances and 4 different 3 x 3\n",
    "    sliding puzzle instances (more can be added if desired). Each instance starts on a new line and\n",
    "    is represented as a sequence of integers separated by spaces.\n",
    "\n",
    "    The output is similar to `simple_test`, but explicit paths for the solved instances are not displayed:\n",
    "\n",
    "    Possible Outputs:\n",
    "    - 'path is OK!':\n",
    "        A path was found, and it is correct.\n",
    "    - 'path is not OK :(':\n",
    "        A path was found, but it is not correct.\n",
    "    - 'path not found :(':\n",
    "        A path was not found.\n",
    "    - 'execution error':\n",
    "        An error occurred while executing the `search_function` or path validation function.\n",
    "\n",
    "    Parameters\n",
    "    ----------\n",
    "    search_function : Callable\n",
    "        Implementation of the search method.\n",
    "    *args\n",
    "        Additional arguments for the search function.\n",
    "    **kwargs\n",
    "        Additional keyword arguments for the search function.\n",
    "        - print_path : bool, optional\n",
    "            If True, print the path found by the search function (default is False).\n",
    "    \"\"\"\n",
    "    with open(Path(\"data/tasks_gem.txt\")) as tasks_file:\n",
    "        print_path = kwargs.pop(\"print_path\", False)\n",
    "        for count, line in enumerate(tasks_file):\n",
    "            state = list(map(int, line.split()))\n",
    "            task = GemPuzzleState(state)\n",
    "            _run_test(\n",
    "                search_function, task, task_idx=count + 1, print_path=print_path, *args\n",
    "            )"
   ]
  },
  {
   "attachments": {},
   "cell_type": "markdown",
   "metadata": {},
   "source": [
    "## Search Algorithms Implementation\n",
    "\n",
    "\n",
    "Recall again here that *dublicate detection must not be coded* in this assignment."
   ]
  },
  {
   "attachments": {},
   "cell_type": "markdown",
   "metadata": {},
   "source": [
    "### Breadth-First Search (BFS)"
   ]
  },
  {
   "cell_type": "code",
   "execution_count": 11,
   "metadata": {
    "tags": []
   },
   "outputs": [],
   "source": [
    "def bfs(start):\n",
    "    \"\"\"\n",
    "    Implementation of Breadth-First Search algorithm.\n",
    "    \"\"\"\n",
    "    path_found, res_state = False, None\n",
    "\n",
    "    queue = [start]\n",
    "\n",
    "    while queue:\n",
    "        v = queue.pop(0)\n",
    "        \n",
    "        if state_is_goal(v):\n",
    "            path_found, res_state = True, v\n",
    "            break\n",
    "        \n",
    "        for u in get_successors(v):\n",
    "            queue.append(u)\n",
    "    \n",
    "\n",
    "    return path_found, res_state"
   ]
  },
  {
   "cell_type": "code",
   "execution_count": 12,
   "metadata": {
    "tags": []
   },
   "outputs": [
    {
     "name": "stdout",
     "output_type": "stream",
     "text": [
      "Task #0: path is OK! Path length: 5\n",
      "3 1\n",
      "2 _\n",
      "\n",
      "3 1\n",
      "_ 2\n",
      "\n",
      "_ 1\n",
      "3 2\n",
      "\n",
      "1 _\n",
      "3 2\n",
      "\n",
      "1 2\n",
      "3 _\n",
      "\n"
     ]
    }
   ],
   "source": [
    "# Test your BFS on simple task\n",
    "simple_test(bfs)"
   ]
  },
  {
   "cell_type": "code",
   "execution_count": 13,
   "metadata": {
    "tags": []
   },
   "outputs": [
    {
     "name": "stdout",
     "output_type": "stream",
     "text": [
      "Task #1: path is OK! Path length: 5\n",
      "Task #2: path is OK! Path length: 5\n",
      "Task #3: path is OK! Path length: 3\n",
      "Task #4: path is OK! Path length: 4\n",
      "Task #5: path is OK! Path length: 4\n",
      "Task #6: path is OK! Path length: 6\n",
      "Task #7: path is OK! Path length: 5\n",
      "Task #8: path is OK! Path length: 9\n"
     ]
    }
   ],
   "source": [
    "# If simple test is path_found, you should check your implementation in massive test.\n",
    "# The rest of the search algorithms are checked in the same way.\n",
    "massive_test(bfs)"
   ]
  },
  {
   "attachments": {},
   "cell_type": "markdown",
   "metadata": {},
   "source": [
    "### Depth-First Search (DFS)"
   ]
  },
  {
   "cell_type": "code",
   "execution_count": 14,
   "metadata": {},
   "outputs": [],
   "source": [
    "def dfs(state):\n",
    "    \"\"\"\n",
    "    Implementation of Depth-First Search algorithm.\n",
    "    \"\"\"\n",
    "    path_found, res_state = False, None\n",
    "\n",
    "    stack = [state]\n",
    "\n",
    "    while stack:\n",
    "        v = stack.pop()\n",
    "        \n",
    "        if state_is_goal(v):\n",
    "            path_found, res_state = True, v\n",
    "            break\n",
    "\n",
    "        successors = get_successors(v)\n",
    "        successors.reverse() # only michael jackson will understand this move\n",
    "        \n",
    "        for u in successors:\n",
    "            if v.parent is None or u != v.parent:\n",
    "                stack.append(u)\n",
    "    \n",
    "\n",
    "    return path_found, res_state"
   ]
  },
  {
   "attachments": {},
   "cell_type": "markdown",
   "metadata": {},
   "source": [
    "Using DFS, you will most likely encounter the fact that this algorithm overcomes the threshold of recursive calls, after which the execution will interrupted.\n",
    "\n",
    "Other unpleasant outcomes (e.g. dead kernel) are also possible."
   ]
  },
  {
   "cell_type": "code",
   "execution_count": 15,
   "metadata": {
    "tags": []
   },
   "outputs": [
    {
     "name": "stdout",
     "output_type": "stream",
     "text": [
      "Task #0: path is OK! Path length: 5\n",
      "3 1\n",
      "2 _\n",
      "\n",
      "3 1\n",
      "_ 2\n",
      "\n",
      "_ 1\n",
      "3 2\n",
      "\n",
      "1 _\n",
      "3 2\n",
      "\n",
      "1 2\n",
      "3 _\n",
      "\n"
     ]
    }
   ],
   "source": [
    "simple_test(dfs)"
   ]
  },
  {
   "cell_type": "code",
   "execution_count": 16,
   "metadata": {
    "tags": []
   },
   "outputs": [],
   "source": [
    "# There is no need to start MassiveTest\n",
    "# massive_test(dfs)"
   ]
  },
  {
   "attachments": {},
   "cell_type": "markdown",
   "metadata": {},
   "source": [
    "But you can create such a simple task, which can be solved by DFS. So your task is to create an instance of the 8-puzzle that is solvable by DFS and the solution contains *at least 3 moves*. "
   ]
  },
  {
   "cell_type": "code",
   "execution_count": 17,
   "metadata": {},
   "outputs": [],
   "source": [
    "def dfs_simple_test(search_function, *args):\n",
    "    # Lets Do It!\n",
    "    your_tile_list = [1,2,3,4,8,5,7,9,6] # at least 3 permutations\n",
    "    start_state = GemPuzzleState(your_tile_list)\n",
    "    _run_test(search_function, start_state, print_path=True, *args)"
   ]
  },
  {
   "cell_type": "code",
   "execution_count": 18,
   "metadata": {
    "tags": []
   },
   "outputs": [
    {
     "name": "stdout",
     "output_type": "stream",
     "text": [
      "Task #0: path is OK! Path length: 10\n",
      "1 2 3\n",
      "4 8 5\n",
      "7 _ 6\n",
      "\n",
      "1 2 3\n",
      "4 8 5\n",
      "7 6 _\n",
      "\n",
      "1 2 3\n",
      "4 8 _\n",
      "7 6 5\n",
      "\n",
      "1 2 3\n",
      "4 _ 8\n",
      "7 6 5\n",
      "\n",
      "1 2 3\n",
      "4 6 8\n",
      "7 _ 5\n",
      "\n",
      "1 2 3\n",
      "4 6 8\n",
      "7 5 _\n",
      "\n",
      "1 2 3\n",
      "4 6 _\n",
      "7 5 8\n",
      "\n",
      "1 2 3\n",
      "4 _ 6\n",
      "7 5 8\n",
      "\n",
      "1 2 3\n",
      "4 5 6\n",
      "7 _ 8\n",
      "\n",
      "1 2 3\n",
      "4 5 6\n",
      "7 8 _\n",
      "\n"
     ]
    }
   ],
   "source": [
    "dfs_simple_test(dfs)"
   ]
  },
  {
   "attachments": {},
   "cell_type": "markdown",
   "metadata": {},
   "source": [
    "### Depth-First Search (DFS) with Random Choice\n",
    "\n",
    "You may try to increase the chance of solving the input problem by randomizing the DFS. One way to do so is to recursively go deeper in the search tree not using the first successor returned by the (deterministic) get_succesors function, but rather by picking a random succesor.\n",
    "\n",
    "Indeed, this technique does not provide any guarantess and in practice it is likely to fail on numerous instances."
   ]
  },
  {
   "cell_type": "code",
   "execution_count": 19,
   "metadata": {},
   "outputs": [],
   "source": [
    "def dfs_random(state):\n",
    "    \"\"\"\n",
    "    Implementation of Depth-First Search with Random Choice algorithm.\n",
    "    \"\"\"\n",
    "    path_found, res_state = False, None\n",
    "    \n",
    "    stack = [state]\n",
    "\n",
    "    while stack:\n",
    "        v = stack.pop()\n",
    "        \n",
    "        if state_is_goal(v):\n",
    "            path_found, res_state = True, v\n",
    "            break\n",
    "        \n",
    "        np.random.shuffle(get_successors(v))\n",
    "        \n",
    "        for u in get_successors(v):\n",
    "            if v.parent is None or u != v.parent:\n",
    "                stack.append(u)\n",
    "    \n",
    "\n",
    "    return path_found, res_state"
   ]
  },
  {
   "cell_type": "code",
   "execution_count": 20,
   "metadata": {},
   "outputs": [
    {
     "name": "stdout",
     "output_type": "stream",
     "text": [
      "Task #0: path is OK! Path length: 9\n",
      "3 1\n",
      "2 _\n",
      "\n",
      "3 _\n",
      "2 1\n",
      "\n",
      "_ 3\n",
      "2 1\n",
      "\n",
      "2 3\n",
      "_ 1\n",
      "\n",
      "2 3\n",
      "1 _\n",
      "\n",
      "2 _\n",
      "1 3\n",
      "\n",
      "_ 2\n",
      "1 3\n",
      "\n",
      "1 2\n",
      "_ 3\n",
      "\n",
      "1 2\n",
      "3 _\n",
      "\n",
      "Task #1: path is OK! Path length: 9\n",
      "3 1\n",
      "2 _\n",
      "\n",
      "3 _\n",
      "2 1\n",
      "\n",
      "_ 3\n",
      "2 1\n",
      "\n",
      "2 3\n",
      "_ 1\n",
      "\n",
      "2 3\n",
      "1 _\n",
      "\n",
      "2 _\n",
      "1 3\n",
      "\n",
      "_ 2\n",
      "1 3\n",
      "\n",
      "1 2\n",
      "_ 3\n",
      "\n",
      "1 2\n",
      "3 _\n",
      "\n",
      "Task #2: path is OK! Path length: 9\n",
      "3 1\n",
      "2 _\n",
      "\n",
      "3 _\n",
      "2 1\n",
      "\n",
      "_ 3\n",
      "2 1\n",
      "\n",
      "2 3\n",
      "_ 1\n",
      "\n",
      "2 3\n",
      "1 _\n",
      "\n",
      "2 _\n",
      "1 3\n",
      "\n",
      "_ 2\n",
      "1 3\n",
      "\n",
      "1 2\n",
      "_ 3\n",
      "\n",
      "1 2\n",
      "3 _\n",
      "\n",
      "Task #3: path is OK! Path length: 9\n",
      "3 1\n",
      "2 _\n",
      "\n",
      "3 _\n",
      "2 1\n",
      "\n",
      "_ 3\n",
      "2 1\n",
      "\n",
      "2 3\n",
      "_ 1\n",
      "\n",
      "2 3\n",
      "1 _\n",
      "\n",
      "2 _\n",
      "1 3\n",
      "\n",
      "_ 2\n",
      "1 3\n",
      "\n",
      "1 2\n",
      "_ 3\n",
      "\n",
      "1 2\n",
      "3 _\n",
      "\n",
      "Task #4: path is OK! Path length: 9\n",
      "3 1\n",
      "2 _\n",
      "\n",
      "3 _\n",
      "2 1\n",
      "\n",
      "_ 3\n",
      "2 1\n",
      "\n",
      "2 3\n",
      "_ 1\n",
      "\n",
      "2 3\n",
      "1 _\n",
      "\n",
      "2 _\n",
      "1 3\n",
      "\n",
      "_ 2\n",
      "1 3\n",
      "\n",
      "1 2\n",
      "_ 3\n",
      "\n",
      "1 2\n",
      "3 _\n",
      "\n",
      "Task #5: path is OK! Path length: 9\n",
      "3 1\n",
      "2 _\n",
      "\n",
      "3 _\n",
      "2 1\n",
      "\n",
      "_ 3\n",
      "2 1\n",
      "\n",
      "2 3\n",
      "_ 1\n",
      "\n",
      "2 3\n",
      "1 _\n",
      "\n",
      "2 _\n",
      "1 3\n",
      "\n",
      "_ 2\n",
      "1 3\n",
      "\n",
      "1 2\n",
      "_ 3\n",
      "\n",
      "1 2\n",
      "3 _\n",
      "\n",
      "Task #6: path is OK! Path length: 9\n",
      "3 1\n",
      "2 _\n",
      "\n",
      "3 _\n",
      "2 1\n",
      "\n",
      "_ 3\n",
      "2 1\n",
      "\n",
      "2 3\n",
      "_ 1\n",
      "\n",
      "2 3\n",
      "1 _\n",
      "\n",
      "2 _\n",
      "1 3\n",
      "\n",
      "_ 2\n",
      "1 3\n",
      "\n",
      "1 2\n",
      "_ 3\n",
      "\n",
      "1 2\n",
      "3 _\n",
      "\n",
      "Task #7: path is OK! Path length: 9\n",
      "3 1\n",
      "2 _\n",
      "\n",
      "3 _\n",
      "2 1\n",
      "\n",
      "_ 3\n",
      "2 1\n",
      "\n",
      "2 3\n",
      "_ 1\n",
      "\n",
      "2 3\n",
      "1 _\n",
      "\n",
      "2 _\n",
      "1 3\n",
      "\n",
      "_ 2\n",
      "1 3\n",
      "\n",
      "1 2\n",
      "_ 3\n",
      "\n",
      "1 2\n",
      "3 _\n",
      "\n",
      "Task #8: path is OK! Path length: 9\n",
      "3 1\n",
      "2 _\n",
      "\n",
      "3 _\n",
      "2 1\n",
      "\n",
      "_ 3\n",
      "2 1\n",
      "\n",
      "2 3\n",
      "_ 1\n",
      "\n",
      "2 3\n",
      "1 _\n",
      "\n",
      "2 _\n",
      "1 3\n",
      "\n",
      "_ 2\n",
      "1 3\n",
      "\n",
      "1 2\n",
      "_ 3\n",
      "\n",
      "1 2\n",
      "3 _\n",
      "\n",
      "Task #9: path is OK! Path length: 9\n",
      "3 1\n",
      "2 _\n",
      "\n",
      "3 _\n",
      "2 1\n",
      "\n",
      "_ 3\n",
      "2 1\n",
      "\n",
      "2 3\n",
      "_ 1\n",
      "\n",
      "2 3\n",
      "1 _\n",
      "\n",
      "2 _\n",
      "1 3\n",
      "\n",
      "_ 2\n",
      "1 3\n",
      "\n",
      "1 2\n",
      "_ 3\n",
      "\n",
      "1 2\n",
      "3 _\n",
      "\n"
     ]
    }
   ],
   "source": [
    "for i in range(10):\n",
    "    simple_test(dfs_random, task_idx=i)"
   ]
  },
  {
   "attachments": {},
   "cell_type": "markdown",
   "metadata": {},
   "source": [
    "### Depth First Search with Limited Depth\n",
    "One of the way to solve problem of overcoming the threshold of recursive calls is explicitly limit the to depth of the search tree by passing an appropriate parameter `limit` to the search algorithm. The second parameter `depth` is a technical one needed for the implementation. It represents the current depth of the search. Initially (when invoked on the start state of the problem) it is, indeed, equal to 0."
   ]
  },
  {
   "cell_type": "code",
   "execution_count": 21,
   "metadata": {},
   "outputs": [],
   "source": [
    "def dfs_limited(state, limit, depth):\n",
    "    \"\"\"\n",
    "    Implementation of Depth First Search with Limited Depth algorithm.\n",
    "    \"\"\"\n",
    "\n",
    "    if state_is_goal(state):\n",
    "        return True, state\n",
    "    \n",
    "    if depth <= limit:\n",
    "        for v in get_successors(state):\n",
    "            path_found, res_state = dfs_limited(v, limit, depth + 1) \n",
    "            \n",
    "            if path_found:\n",
    "                return path_found, res_state\n",
    "\n",
    "    return False, None"
   ]
  },
  {
   "attachments": {},
   "cell_type": "markdown",
   "metadata": {},
   "source": [
    "Let's check this approach with several different limits"
   ]
  },
  {
   "cell_type": "code",
   "execution_count": 22,
   "metadata": {
    "tags": []
   },
   "outputs": [
    {
     "name": "stdout",
     "output_type": "stream",
     "text": [
      "Task #0: path is OK! Path length: 5\n",
      "3 1\n",
      "2 _\n",
      "\n",
      "3 1\n",
      "_ 2\n",
      "\n",
      "_ 1\n",
      "3 2\n",
      "\n",
      "1 _\n",
      "3 2\n",
      "\n",
      "1 2\n",
      "3 _\n",
      "\n"
     ]
    }
   ],
   "source": [
    "simple_test(dfs_limited, 3, 0)"
   ]
  },
  {
   "cell_type": "code",
   "execution_count": 23,
   "metadata": {
    "tags": []
   },
   "outputs": [
    {
     "name": "stdout",
     "output_type": "stream",
     "text": [
      "Task #0: path is OK! Path length: 7\n",
      "3 1\n",
      "2 _\n",
      "\n",
      "3 1\n",
      "_ 2\n",
      "\n",
      "3 1\n",
      "2 _\n",
      "\n",
      "3 1\n",
      "_ 2\n",
      "\n",
      "_ 1\n",
      "3 2\n",
      "\n",
      "1 _\n",
      "3 2\n",
      "\n",
      "1 2\n",
      "3 _\n",
      "\n"
     ]
    }
   ],
   "source": [
    "simple_test(dfs_limited, 5, 0)"
   ]
  },
  {
   "cell_type": "code",
   "execution_count": 24,
   "metadata": {
    "tags": []
   },
   "outputs": [
    {
     "name": "stdout",
     "output_type": "stream",
     "text": [
      "Task #0: path is OK! Path length: 11\n",
      "3 1\n",
      "2 _\n",
      "\n",
      "3 1\n",
      "_ 2\n",
      "\n",
      "3 1\n",
      "2 _\n",
      "\n",
      "3 1\n",
      "_ 2\n",
      "\n",
      "3 1\n",
      "2 _\n",
      "\n",
      "3 1\n",
      "_ 2\n",
      "\n",
      "3 1\n",
      "2 _\n",
      "\n",
      "3 1\n",
      "_ 2\n",
      "\n",
      "_ 1\n",
      "3 2\n",
      "\n",
      "1 _\n",
      "3 2\n",
      "\n",
      "1 2\n",
      "3 _\n",
      "\n"
     ]
    }
   ],
   "source": [
    "simple_test(dfs_limited, 10, 0)"
   ]
  },
  {
   "cell_type": "code",
   "execution_count": 25,
   "metadata": {
    "tags": []
   },
   "outputs": [
    {
     "name": "stdout",
     "output_type": "stream",
     "text": [
      "Task #1: path is OK! Path length: 5\n",
      "Task #2: path is OK! Path length: 5\n",
      "Task #3: path is OK! Path length: 3\n",
      "Task #4: path is OK! Path length: 4\n",
      "Task #5: path is OK! Path length: 4\n",
      "Task #6: path not found :(\n",
      "Task #7: path is OK! Path length: 5\n",
      "Task #8: path not found :(\n"
     ]
    }
   ],
   "source": [
    "massive_test(dfs_limited, 3, 0, print_path=False)"
   ]
  },
  {
   "cell_type": "code",
   "execution_count": 26,
   "metadata": {
    "tags": []
   },
   "outputs": [
    {
     "name": "stdout",
     "output_type": "stream",
     "text": [
      "Task #1: path is OK! Path length: 7\n",
      "Task #2: path is OK! Path length: 7\n",
      "Task #3: path is OK! Path length: 3\n",
      "Task #4: path is OK! Path length: 6\n",
      "Task #5: path is OK! Path length: 6\n",
      "Task #6: path is OK! Path length: 6\n",
      "Task #7: path is OK! Path length: 7\n",
      "Task #8: path not found :(\n"
     ]
    }
   ],
   "source": [
    "massive_test(dfs_limited, 5, 0)"
   ]
  },
  {
   "cell_type": "code",
   "execution_count": 27,
   "metadata": {
    "tags": []
   },
   "outputs": [
    {
     "name": "stdout",
     "output_type": "stream",
     "text": [
      "Task #1: path is OK! Path length: 11\n",
      "Task #2: path is OK! Path length: 11\n",
      "Task #3: path is OK! Path length: 3\n",
      "Task #4: path is OK! Path length: 12\n",
      "Task #5: path is OK! Path length: 12\n",
      "Task #6: path is OK! Path length: 12\n",
      "Task #7: path is OK! Path length: 11\n",
      "Task #8: path is OK! Path length: 11\n"
     ]
    }
   ],
   "source": [
    "massive_test(dfs_limited, 10, 0)"
   ]
  },
  {
   "attachments": {},
   "cell_type": "markdown",
   "metadata": {},
   "source": [
    "### Depth First Iterative Deepening Search (DFID)\n",
    "Finally let's sequentially invoke DFS with increasing depth limits. This is called the Depth First Iterative Deepening algorithm. It will inded find a solution if one exists."
   ]
  },
  {
   "cell_type": "code",
   "execution_count": 28,
   "metadata": {},
   "outputs": [],
   "source": [
    "def dfid(state):\n",
    "    \"\"\"\n",
    "    Implementation of Iterative-Deepening Depth-First Search.\n",
    "    \"\"\"\n",
    "    n = 0\n",
    "\n",
    "    while True:\n",
    "        path_found, res_state = dfs_limited(state, n, 0)\n",
    "\n",
    "        if path_found:\n",
    "            return path_found, res_state\n",
    "        else:\n",
    "            n += 1"
   ]
  },
  {
   "cell_type": "code",
   "execution_count": 29,
   "metadata": {
    "tags": []
   },
   "outputs": [
    {
     "name": "stdout",
     "output_type": "stream",
     "text": [
      "Task #0: path is OK! Path length: 5\n",
      "3 1\n",
      "2 _\n",
      "\n",
      "3 1\n",
      "_ 2\n",
      "\n",
      "_ 1\n",
      "3 2\n",
      "\n",
      "1 _\n",
      "3 2\n",
      "\n",
      "1 2\n",
      "3 _\n",
      "\n"
     ]
    }
   ],
   "source": [
    "simple_test(dfid)"
   ]
  },
  {
   "cell_type": "code",
   "execution_count": 30,
   "metadata": {
    "tags": []
   },
   "outputs": [
    {
     "name": "stdout",
     "output_type": "stream",
     "text": [
      "Task #1: path is OK! Path length: 5\n",
      "Task #2: path is OK! Path length: 5\n",
      "Task #3: path is OK! Path length: 3\n",
      "Task #4: path is OK! Path length: 4\n",
      "Task #5: path is OK! Path length: 4\n",
      "Task #6: path is OK! Path length: 6\n",
      "Task #7: path is OK! Path length: 5\n",
      "Task #8: path is OK! Path length: 9\n"
     ]
    }
   ],
   "source": [
    "massive_test(dfid)"
   ]
  },
  {
   "attachments": {},
   "cell_type": "markdown",
   "metadata": {},
   "source": [
    "## Pancake Sorting"
   ]
  },
  {
   "attachments": {},
   "cell_type": "markdown",
   "metadata": {
    "tags": []
   },
   "source": [
    "![Example](img/cat.jpg)"
   ]
  },
  {
   "attachments": {},
   "cell_type": "markdown",
   "metadata": {},
   "source": [
    "Pancake sorting is the colloquial term for the mathematical problem of sorting a disordered stack of pancakes in order of size when a spatula can be inserted at any point in the stack and used to flip all pancakes above it (See picture below) [[Wikipedia](https://en.wikipedia.org/wiki/Pancake_sorting)]."
   ]
  },
  {
   "attachments": {},
   "cell_type": "markdown",
   "metadata": {
    "tags": []
   },
   "source": [
    "![Example](img/pancake.png)"
   ]
  },
  {
   "attachments": {},
   "cell_type": "markdown",
   "metadata": {},
   "source": [
    "### Representation of a state\n",
    "In this task you should create your own implementation of pancake sorting problem state (and all related funtions) with your own test data. Note, that the interface of the state-class must be the same as for the `GemPuzzleState` thus all the machinery introduced before (e.g. automated tests) will work out-of-the-box. "
   ]
  },
  {
   "cell_type": "code",
   "execution_count": 31,
   "metadata": {},
   "outputs": [],
   "source": [
    "class PancakeDish:\n",
    "    \"\"\"\n",
    "    Attributes\n",
    "    ----------\n",
    "    size : int\n",
    "        Amount of pancakes in dish.\n",
    "\n",
    "    pancake_sequence : ndarray[int, ndim=1]\n",
    "        Sequence as a 1D array of integers. This array is expected\n",
    "        to contain values from `1` to `size`. Each integer value corresponds\n",
    "        to a length of pancake.\n",
    "\n",
    "    parent : PancakeDish\n",
    "        A pointer to the parent state. The parent is a predecessor of the state in\n",
    "        the search tree. It is used to reconstruct a path to that state from the start\n",
    "        state (the root of the search tree).\n",
    "    \"\"\"\n",
    "    def __init__(self, pancakes):\n",
    "        \"\"\"\n",
    "        Constructor. Sets pancakes sequence and performs some basic checks.\n",
    "\n",
    "        Parameters\n",
    "        ----------\n",
    "        tile_list : List[int]\n",
    "            Sequence as a 1D array of integers. This array is expected\n",
    "            to contain values from `1` to `size`. Each integer value corresponds\n",
    "            to a length of pancake.\n",
    "        \"\"\"\n",
    "        self.size = int(len(pancakes))\n",
    "        self.pancake_sequence = np.array(pancakes, dtype=np.int16)\n",
    "\n",
    "        self.parent = None\n",
    "\n",
    "    def __eq__(self, other):\n",
    "        \"\"\"\n",
    "        Compare one sequence with another sequence.\n",
    "        \"\"\"\n",
    "        return np.array_equal(self.pancake_sequence, other.pancake_sequence)\n",
    "\n",
    "\n",
    "    def __str__(self):\n",
    "        \"\"\"\n",
    "        Return a string representation of the game field for printing.\n",
    "        \"\"\"\n",
    "        result = \"\"\n",
    "        for l in self.pancake_sequence:\n",
    "            result += (self.size - l) * \" \" + l* \"__\" + '\\n'\n",
    "        \n",
    "        return result\n"
   ]
  },
  {
   "cell_type": "code",
   "execution_count": 85,
   "metadata": {},
   "outputs": [],
   "source": [
    "def get_successors(state: PancakeDish):\n",
    "    successors = []\n",
    "    \n",
    "    for n in range(state.size):\n",
    "        new_state = copy.deepcopy(state)\n",
    "        new_state.pancake_sequence = np.concatenate((np.flip(new_state.pancake_sequence[:n+1]), new_state.pancake_sequence[n+1::]))\n",
    "        new_state.parent = state\n",
    "        \n",
    "        successors.append(new_state)\n",
    "    \n",
    "\n",
    "    return successors"
   ]
  },
  {
   "cell_type": "code",
   "execution_count": 64,
   "metadata": {
    "tags": []
   },
   "outputs": [],
   "source": [
    "def state_is_goal(state: PancakeDish):\n",
    "    \n",
    "    goal_state = np.arange(1, state.size + 1)\n",
    "\n",
    "    return np.array_equal(state.pancake_sequence, goal_state)"
   ]
  },
  {
   "cell_type": "code",
   "execution_count": 65,
   "metadata": {},
   "outputs": [],
   "source": [
    "def simple_test(search_function: Callable, *args, **kwargs):\n",
    "    # TODO your simple task\n",
    "    start_state = PancakeDish([3,1,2])\n",
    "    get_successors(start_state)\n",
    "    _run_test(search_function, start_state, *args, **kwargs)"
   ]
  },
  {
   "cell_type": "code",
   "execution_count": 35,
   "metadata": {},
   "outputs": [],
   "source": [
    "def massive_test(search_function: Callable, *args, **kwargs):\n",
    "    # TODO your file with at least 8 different tasks\n",
    "    # tasks_file = open('data/your_task_file.txt')\n",
    "    with open(Path(\"data/your_task_file.txt\")) as tasks_file:\n",
    "        print_path = kwargs.pop(\"print_path\", False)\n",
    "        for count, line in enumerate(tasks_file):\n",
    "            state = list(map(int, line.split()))\n",
    "            task = PancakeDish(state)\n",
    "            _run_test(\n",
    "                search_function, task, task_idx=count + 1, print_path=print_path, *args\n",
    "            )"
   ]
  },
  {
   "attachments": {},
   "cell_type": "markdown",
   "metadata": {},
   "source": [
    "## Lets check!"
   ]
  },
  {
   "cell_type": "code",
   "execution_count": 86,
   "metadata": {
    "tags": []
   },
   "outputs": [
    {
     "name": "stdout",
     "output_type": "stream",
     "text": [
      "Task #0: path is OK! Path length: 3\n",
      "______\n",
      "  __\n",
      " ____\n",
      "\n",
      " ____\n",
      "  __\n",
      "______\n",
      "\n",
      "  __\n",
      " ____\n",
      "______\n",
      "\n"
     ]
    }
   ],
   "source": [
    "simple_test(bfs)"
   ]
  },
  {
   "cell_type": "code",
   "execution_count": 87,
   "metadata": {
    "tags": []
   },
   "outputs": [
    {
     "name": "stdout",
     "output_type": "stream",
     "text": [
      "Task #1: path is OK! Path length: 4\n",
      "Task #2: path is OK! Path length: 6\n",
      "Task #3: path is OK! Path length: 3\n",
      "Task #4: path is OK! Path length: 4\n",
      "Task #5: path is OK! Path length: 6\n",
      "Task #6: path is OK! Path length: 5\n",
      "Task #7: path is OK! Path length: 4\n",
      "Task #8: path is OK! Path length: 5\n"
     ]
    }
   ],
   "source": [
    "massive_test(bfs)"
   ]
  },
  {
   "cell_type": "code",
   "execution_count": 88,
   "metadata": {
    "tags": []
   },
   "outputs": [
    {
     "name": "stdout",
     "output_type": "stream",
     "text": [
      "Task #0: execution error maximum recursion depth exceeded while calling a Python object\n"
     ]
    }
   ],
   "source": [
    "simple_test(dfs)"
   ]
  },
  {
   "cell_type": "code",
   "execution_count": 89,
   "metadata": {},
   "outputs": [
    {
     "name": "stdout",
     "output_type": "stream",
     "text": [
      "Task #0: path is OK! Path length: 3\n",
      "Task #1: path is OK! Path length: 3\n",
      "Task #2: path is OK! Path length: 3\n",
      "Task #3: path is OK! Path length: 3\n",
      "Task #4: path is OK! Path length: 3\n",
      "Task #5: path is OK! Path length: 3\n",
      "Task #6: path is OK! Path length: 3\n",
      "Task #7: path is OK! Path length: 3\n",
      "Task #8: path is OK! Path length: 3\n",
      "Task #9: path is OK! Path length: 3\n"
     ]
    }
   ],
   "source": [
    "for i in range(10):\n",
    "    simple_test(dfs_random, task_idx=i, print_path=False)"
   ]
  },
  {
   "cell_type": "code",
   "execution_count": 90,
   "metadata": {
    "tags": []
   },
   "outputs": [
    {
     "name": "stdout",
     "output_type": "stream",
     "text": [
      "Task #0: path is OK! Path length: 4\n",
      "______\n",
      "  __\n",
      " ____\n",
      "\n",
      "______\n",
      "  __\n",
      " ____\n",
      "\n",
      " ____\n",
      "  __\n",
      "______\n",
      "\n",
      "  __\n",
      " ____\n",
      "______\n",
      "\n",
      "Task #0: path is OK! Path length: 7\n",
      "______\n",
      "  __\n",
      " ____\n",
      "\n",
      "______\n",
      "  __\n",
      " ____\n",
      "\n",
      "______\n",
      "  __\n",
      " ____\n",
      "\n",
      "______\n",
      "  __\n",
      " ____\n",
      "\n",
      "______\n",
      "  __\n",
      " ____\n",
      "\n",
      " ____\n",
      "  __\n",
      "______\n",
      "\n",
      "  __\n",
      " ____\n",
      "______\n",
      "\n",
      "Task #0: path is OK! Path length: 12\n",
      "______\n",
      "  __\n",
      " ____\n",
      "\n",
      "______\n",
      "  __\n",
      " ____\n",
      "\n",
      "______\n",
      "  __\n",
      " ____\n",
      "\n",
      "______\n",
      "  __\n",
      " ____\n",
      "\n",
      "______\n",
      "  __\n",
      " ____\n",
      "\n",
      "______\n",
      "  __\n",
      " ____\n",
      "\n",
      "______\n",
      "  __\n",
      " ____\n",
      "\n",
      "______\n",
      "  __\n",
      " ____\n",
      "\n",
      "______\n",
      "  __\n",
      " ____\n",
      "\n",
      "______\n",
      "  __\n",
      " ____\n",
      "\n",
      " ____\n",
      "  __\n",
      "______\n",
      "\n",
      "  __\n",
      " ____\n",
      "______\n",
      "\n"
     ]
    }
   ],
   "source": [
    "simple_test(dfs_limited, 2, 0)\n",
    "simple_test(dfs_limited, 5, 0)\n",
    "simple_test(dfs_limited, 10, 0)"
   ]
  },
  {
   "cell_type": "code",
   "execution_count": 91,
   "metadata": {
    "tags": []
   },
   "outputs": [
    {
     "name": "stdout",
     "output_type": "stream",
     "text": [
      "Task #1: path is OK! Path length: 4\n",
      "Task #2: path not found :(\n",
      "Task #3: path is OK! Path length: 4\n",
      "Task #4: path is OK! Path length: 4\n",
      "Task #5: path not found :(\n",
      "Task #6: path not found :(\n",
      "Task #7: path is OK! Path length: 4\n",
      "Task #8: path not found :(\n"
     ]
    }
   ],
   "source": [
    "massive_test(dfs_limited, 2, 0)"
   ]
  },
  {
   "cell_type": "code",
   "execution_count": 92,
   "metadata": {
    "tags": []
   },
   "outputs": [
    {
     "name": "stdout",
     "output_type": "stream",
     "text": [
      "Task #1: path is OK! Path length: 7\n",
      "Task #2: path is OK! Path length: 7\n",
      "Task #3: path is OK! Path length: 7\n",
      "Task #4: path is OK! Path length: 7\n",
      "Task #5: path is OK! Path length: 7\n",
      "Task #6: path is OK! Path length: 7\n",
      "Task #7: path is OK! Path length: 7\n",
      "Task #8: path is OK! Path length: 7\n"
     ]
    }
   ],
   "source": [
    "massive_test(dfs_limited, 5, 0)"
   ]
  },
  {
   "cell_type": "code",
   "execution_count": 93,
   "metadata": {
    "tags": []
   },
   "outputs": [
    {
     "name": "stdout",
     "output_type": "stream",
     "text": [
      "Task #1: path is OK! Path length: 12\n",
      "Task #2: path is OK! Path length: 12\n",
      "Task #3: path is OK! Path length: 12\n",
      "Task #4: path is OK! Path length: 12\n",
      "Task #5: path is OK! Path length: 12\n",
      "Task #6: path is OK! Path length: 12\n",
      "Task #7: path is OK! Path length: 12\n",
      "Task #8: path is OK! Path length: 12\n"
     ]
    }
   ],
   "source": [
    "massive_test(dfs_limited, 10, 0)"
   ]
  },
  {
   "cell_type": "code",
   "execution_count": 94,
   "metadata": {
    "tags": []
   },
   "outputs": [
    {
     "name": "stdout",
     "output_type": "stream",
     "text": [
      "Task #0: path is OK! Path length: 3\n",
      "______\n",
      "  __\n",
      " ____\n",
      "\n",
      " ____\n",
      "  __\n",
      "______\n",
      "\n",
      "  __\n",
      " ____\n",
      "______\n",
      "\n"
     ]
    }
   ],
   "source": [
    "simple_test(dfid)"
   ]
  },
  {
   "cell_type": "code",
   "execution_count": 95,
   "metadata": {
    "tags": []
   },
   "outputs": [
    {
     "name": "stdout",
     "output_type": "stream",
     "text": [
      "Task #1: path is OK! Path length: 4\n",
      "Task #2: path is OK! Path length: 6\n",
      "Task #3: path is OK! Path length: 3\n",
      "Task #4: path is OK! Path length: 4\n",
      "Task #5: path is OK! Path length: 6\n",
      "Task #6: path is OK! Path length: 5\n",
      "Task #7: path is OK! Path length: 4\n",
      "Task #8: path is OK! Path length: 5\n"
     ]
    }
   ],
   "source": [
    "massive_test(dfid)"
   ]
  }
 ],
 "metadata": {
  "kernelspec": {
   "display_name": "Python 3 (ipykernel)",
   "language": "python",
   "name": "python3"
  },
  "language_info": {
   "codemirror_mode": {
    "name": "ipython",
    "version": 3
   },
   "file_extension": ".py",
   "mimetype": "text/x-python",
   "name": "python",
   "nbconvert_exporter": "python",
   "pygments_lexer": "ipython3",
   "version": "3.11.5"
  },
  "vscode": {
   "interpreter": {
    "hash": "31f2aee4e71d21fbe5cf8b01ff0e069b9275f58929596ceb00d14d90e3e16cd6"
   }
  }
 },
 "nbformat": 4,
 "nbformat_minor": 4
}
